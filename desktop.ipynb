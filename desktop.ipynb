{
 "cells": [
  {
   "cell_type": "markdown",
   "metadata": {},
   "source": [
    "# PROBLEM SOLVING WITH PYTHON PHASE-1"
   ]
  },
  {
   "cell_type": "markdown",
   "metadata": {},
   "source": [
    "* VARIABLES\n",
    "* KEY WORDS\n",
    "* OPERATORS"
   ]
  },
  {
   "cell_type": "markdown",
   "metadata": {},
   "source": [
    "### TYPES OF OPERATORS"
   ]
  },
  {
   "cell_type": "markdown",
   "metadata": {},
   "source": [
    " * ARTHEMATIC OPERATORS(+,-,*,?,%,**,//,/)\n",
    " * RELATIONAL OPERATORS\n",
    " * BIT WISE OPERATORS\n",
    " * ASSIGNMENT OPERATORS\n",
    " * MEMBERSHIP OPERATORS\n",
    " * IDENTITY OPERATORS"
   ]
  },
  {
   "cell_type": "markdown",
   "metadata": {},
   "source": [
    "### VARIABLES DECLARATION"
   ]
  },
  {
   "cell_type": "code",
   "execution_count": 2,
   "metadata": {},
   "outputs": [
    {
     "data": {
      "text/plain": [
       "int"
      ]
     },
     "execution_count": 2,
     "metadata": {},
     "output_type": "execute_result"
    }
   ],
   "source": [
    "a=10\n",
    "type(a)\n",
    "b=20"
   ]
  },
  {
   "cell_type": "code",
   "execution_count": 3,
   "metadata": {},
   "outputs": [
    {
     "data": {
      "text/plain": [
       "1"
      ]
     },
     "execution_count": 3,
     "metadata": {},
     "output_type": "execute_result"
    }
   ],
   "source": [
    "5>>2"
   ]
  },
  {
   "cell_type": "code",
   "execution_count": 4,
   "metadata": {},
   "outputs": [
    {
     "data": {
      "text/plain": [
       "20"
      ]
     },
     "execution_count": 4,
     "metadata": {},
     "output_type": "execute_result"
    }
   ],
   "source": [
    "5<<2"
   ]
  },
  {
   "cell_type": "code",
   "execution_count": 20,
   "metadata": {},
   "outputs": [
    {
     "name": "stdout",
     "output_type": "stream",
     "text": [
      "False\n",
      "True\n"
     ]
    }
   ],
   "source": [
    "print(6 is a)\n",
    "print(10 is a)"
   ]
  },
  {
   "cell_type": "code",
   "execution_count": 15,
   "metadata": {},
   "outputs": [
    {
     "data": {
      "text/plain": [
       "True"
      ]
     },
     "execution_count": 15,
     "metadata": {},
     "output_type": "execute_result"
    }
   ],
   "source": [
    "'n' in \"nichitha\"\n",
    "'s' not in \"nichitha\""
   ]
  },
  {
   "cell_type": "code",
   "execution_count": 25,
   "metadata": {},
   "outputs": [
    {
     "name": "stdout",
     "output_type": "stream",
     "text": [
      "30\n",
      "-10\n",
      "200\n",
      "0.5\n",
      "0\n",
      "100000000000000000000\n",
      "10\n"
     ]
    }
   ],
   "source": [
    "a=10\n",
    "b=20\n",
    "print(a+b) #arthematic operators\n",
    "print(a-b)\n",
    "print(a*b)\n",
    "print(a/b)\n",
    "print(a//b)\n",
    "print(a**b)\n",
    "print(a%b)"
   ]
  },
  {
   "cell_type": "code",
   "execution_count": 37,
   "metadata": {},
   "outputs": [
    {
     "name": "stdout",
     "output_type": "stream",
     "text": [
      "4\n",
      "0\n",
      "5\n"
     ]
    }
   ],
   "source": [
    "\n",
    "a=5\n",
    "b=6\n",
    "print(a&b)\n",
    "print(a//b)\n",
    "print(a)"
   ]
  },
  {
   "cell_type": "code",
   "execution_count": 36,
   "metadata": {},
   "outputs": [
    {
     "name": "stdout",
     "output_type": "stream",
     "text": [
      "5\n",
      "3\n",
      "31\n",
      "78\n"
     ]
    }
   ],
   "source": [
    "# variable\n",
    "a=5 \n",
    "print(a)\n",
    "b=3\n",
    "print(b)\n",
    "x,y,z=10,20,30\n",
    "p=r=q=31\n",
    "print(q)\n",
    "\n",
    "#variable redeclaration\n",
    "x=78\n",
    "print(x)\n",
    "\n",
    "#deletion of variable\n",
    "del q"
   ]
  },
  {
   "cell_type": "markdown",
   "metadata": {},
   "source": [
    "# flow control"
   ]
  },
  {
   "cell_type": "markdown",
   "metadata": {},
   "source": [
    "* control statements\n",
    " * if\n",
    " * if-else\n",
    " * nested if\n",
    "* loops\n",
    " * while \n",
    " * for\n",
    " * break\n",
    " * continue\n",
    " * pass\n",
    " "
   ]
  },
  {
   "cell_type": "code",
   "execution_count": 40,
   "metadata": {},
   "outputs": [
    {
     "name": "stdout",
     "output_type": "stream",
     "text": [
      "condition satisfy\n"
     ]
    }
   ],
   "source": [
    "# if statement\n",
    "a=22\n",
    "if a==22:\n",
    "    print(\"condition satisfy\")"
   ]
  },
  {
   "cell_type": "code",
   "execution_count": 42,
   "metadata": {},
   "outputs": [
    {
     "name": "stdout",
     "output_type": "stream",
     "text": [
      "condition not satisfy\n"
     ]
    }
   ],
   "source": [
    "a=23\n",
    "if a==25:\n",
    "    print(\"condition satisfy\")\n",
    "else:\n",
    "    print(\"condition not satisfy\")"
   ]
  },
  {
   "cell_type": "code",
   "execution_count": null,
   "metadata": {},
   "outputs": [],
   "source": [
    "# check the given number even or odd\n",
    "a1 =input(\"enter a1 value\")\n",
    "if n%2==0:\n",
    "    print(\"even\")\n",
    "else:\n",
    "    print(\"odd\")"
   ]
  },
  {
   "cell_type": "code",
   "execution_count": null,
   "metadata": {},
   "outputs": [],
   "source": [
    "# check the given number is positive or negative\n"
   ]
  },
  {
   "cell_type": "code",
   "execution_count": 1,
   "metadata": {},
   "outputs": [
    {
     "name": "stdout",
     "output_type": "stream",
     "text": [
      "enter n1 value:56\n",
      "enter n2 value:89\n",
      "given value 89 is bigger than  56\n"
     ]
    }
   ],
   "source": [
    "##### print the biggest value in the given two numbers\n",
    "n1 =int(input(\"enter n1 value:\"))\n",
    "n2 =int(input(\"enter n2 value:\"))\n",
    "if n1>n2:\n",
    "    print(\"given value\", n1,\"is bigger than\",n2)\n",
    "else:\n",
    "    print(\"given value\",n2,\"is bigger than \",n1)\n"
   ]
  },
  {
   "cell_type": "code",
   "execution_count": 1,
   "metadata": {},
   "outputs": [
    {
     "name": "stdout",
     "output_type": "stream",
     "text": [
      "enter n1 value31\n",
      "enter n2 value45\n",
      "enter n3 value56\n",
      "given value 56 is bigger than 31 45\n"
     ]
    }
   ],
   "source": [
    "#if else ladder\n",
    "n1 =int(input(\"enter n1 value\"))\n",
    "n2 =int(input(\"enter n2 value\"))\n",
    "n3 =int(input(\"enter n3 value\"))\n",
    "if n1>n2>n3:\n",
    "    print(\"given value\",n1,\"isbigger than\",n2,n3)\n",
    "elif n2>n3:\n",
    "    print(\"given value\",n2,\"is bigger than\",n1,n2)\n",
    "else:\n",
    "    print(\"given value\",n3,\"is bigger than\",n1,n2)"
   ]
  },
  {
   "cell_type": "code",
   "execution_count": 1,
   "metadata": {},
   "outputs": [
    {
     "name": "stdout",
     "output_type": "stream",
     "text": [
      "enter n value10\n",
      "1\n",
      "2\n",
      "3\n",
      "4\n",
      "5\n",
      "6\n",
      "7\n",
      "8\n",
      "9\n"
     ]
    }
   ],
   "source": [
    "# n natural numbers\n",
    "n =int(input(\"enter n value\"))\n",
    "for i in range(1,n):\n",
    "    print(i)"
   ]
  },
  {
   "cell_type": "code",
   "execution_count": 2,
   "metadata": {},
   "outputs": [
    {
     "name": "stdout",
     "output_type": "stream",
     "text": [
      "enter n value5\n",
      "5\n",
      "4\n",
      "3\n",
      "2\n",
      "1\n"
     ]
    }
   ],
   "source": [
    "#print reverse of n natural numbers\n",
    "n =int(input(\"enter n value\"))\n",
    "for i in range(n,0,-1):\n",
    "    print(i)"
   ]
  },
  {
   "cell_type": "code",
   "execution_count": null,
   "metadata": {},
   "outputs": [],
   "source": []
  },
  {
   "cell_type": "code",
   "execution_count": null,
   "metadata": {},
   "outputs": [],
   "source": []
  }
 ],
 "metadata": {
  "kernelspec": {
   "display_name": "Python 3",
   "language": "python",
   "name": "python3"
  },
  "language_info": {
   "codemirror_mode": {
    "name": "ipython",
    "version": 3
   },
   "file_extension": ".py",
   "mimetype": "text/x-python",
   "name": "python",
   "nbconvert_exporter": "python",
   "pygments_lexer": "ipython3",
   "version": "3.7.3"
  }
 },
 "nbformat": 4,
 "nbformat_minor": 2
}
